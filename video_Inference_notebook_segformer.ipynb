{
 "cells": [
  {
   "cell_type": "code",
   "execution_count": 1,
   "metadata": {},
   "outputs": [
    {
     "name": "stderr",
     "output_type": "stream",
     "text": [
      "/Users/niche/miniconda3/envs/mymconda/lib/python3.9/site-packages/tqdm/auto.py:22: TqdmWarning: IProgress not found. Please update jupyter and ipywidgets. See https://ipywidgets.readthedocs.io/en/stable/user_install.html\n",
      "  from .autonotebook import tqdm as notebook_tqdm\n"
     ]
    }
   ],
   "source": [
    "import os\n",
    "from os.path import isfile, join\n",
    "import torch\n",
    "import torch.nn as nn\n",
    "import numpy as np\n",
    "import matplotlib.pyplot as plt\n",
    "#from scipy.ndimage import rotate\n",
    "import cv2 \n",
    "import json\n",
    "from huggingface_hub import cached_download, hf_hub_url\n",
    "from transformers import AutoModelForSemanticSegmentation\n",
    "from transformers import AutoFeatureExtractor\n",
    "from Video_processing.video_image_utils import *\n",
    "from palette import *"
   ]
  },
  {
   "cell_type": "code",
   "execution_count": 5,
   "metadata": {},
   "outputs": [
    {
     "name": "stderr",
     "output_type": "stream",
     "text": [
      "/Users/niche/miniconda3/envs/mymconda/lib/python3.9/site-packages/huggingface_hub/file_download.py:588: FutureWarning: `cached_download` is the legacy way to download files from the HF hub, please consider upgrading to `hf_hub_download`\n",
      "  warnings.warn(\n",
      "Some weights of the model checkpoint at nvidia/mit-b0 were not used when initializing SegformerForSemanticSegmentation: ['classifier.weight', 'classifier.bias']\n",
      "- This IS expected if you are initializing SegformerForSemanticSegmentation from the checkpoint of a model trained on another task or with another architecture (e.g. initializing a BertForSequenceClassification model from a BertForPreTraining model).\n",
      "- This IS NOT expected if you are initializing SegformerForSemanticSegmentation from the checkpoint of a model that you expect to be exactly identical (initializing a BertForSequenceClassification model from a BertForSequenceClassification model).\n",
      "Some weights of SegformerForSemanticSegmentation were not initialized from the model checkpoint at nvidia/mit-b0 and are newly initialized: ['decode_head.batch_norm.num_batches_tracked', 'decode_head.batch_norm.running_mean', 'decode_head.linear_c.3.proj.weight', 'decode_head.batch_norm.bias', 'decode_head.linear_c.2.proj.bias', 'decode_head.classifier.bias', 'decode_head.linear_c.1.proj.weight', 'decode_head.linear_c.3.proj.bias', 'decode_head.linear_c.0.proj.bias', 'decode_head.linear_fuse.weight', 'decode_head.linear_c.2.proj.weight', 'decode_head.linear_c.0.proj.weight', 'decode_head.linear_c.1.proj.bias', 'decode_head.batch_norm.weight', 'decode_head.batch_norm.running_var', 'decode_head.classifier.weight']\n",
      "You should probably TRAIN this model on a down-stream task to be able to use it for predictions and inference.\n"
     ]
    }
   ],
   "source": [
    "### Load pretraint model to initialize parameters\n",
    "\n",
    "repo_id = \"huggingface/label-files\"\n",
    "#filename = \"ade20k-hf-doc-builder.json\" ### this file name was written in the tutorial, but it is not working\n",
    "filename= \"ade20k-id2label.json\"\n",
    "id2label = json.load(open(cached_download(hf_hub_url(repo_id, filename, repo_type=\"dataset\")), \"r\"))\n",
    "id2label = {int(k): v for k, v in id2label.items()}\n",
    "label2id = {v: k for k, v in id2label.items()}\n",
    "num_labels = len(id2label)\n",
    "\n",
    "pretrained_model_name = \"nvidia/mit-b0\"\n",
    "model = AutoModelForSemanticSegmentation.from_pretrained(\n",
    "    pretrained_model_name, id2label=id2label, label2id=label2id\n",
    ")"
   ]
  },
  {
   "cell_type": "code",
   "execution_count": 6,
   "metadata": {},
   "outputs": [],
   "source": [
    "### feature extractor\n",
    "feature_extractor = AutoFeatureExtractor.from_pretrained(\"nvidia/mit-b0\", reduce_labels=True)"
   ]
  },
  {
   "cell_type": "code",
   "execution_count": 7,
   "metadata": {},
   "outputs": [
    {
     "data": {
      "text/plain": [
       "<All keys matched successfully>"
      ]
     },
     "execution_count": 7,
     "metadata": {},
     "output_type": "execute_result"
    }
   ],
   "source": [
    "### loding finetuned model\n",
    "model.load_state_dict(torch.load('/Users/niche/Transformer_study/Trained_Model_with_50_images/pytorch_model.bin'))"
   ]
  },
  {
   "cell_type": "code",
   "execution_count": 5,
   "metadata": {},
   "outputs": [],
   "source": [
    "#''' \n",
    "### loading an Image from Directory\n",
    "### \n",
    "try:\n",
    "    if not os.path.exists('seg_images'):\n",
    "        os.makedirs('seg_images')\n",
    "except OSError:\n",
    "    print ('Error: Creating directory of seg_images')\n",
    "\n",
    "pathIn='./Video_processing/Test_images/' \n",
    "pathOut_seg='./seg_images/'\n",
    "device = torch.device(\"cuda\" if torch.cuda.is_available() else \"cpu\")  # use GPU if available, otherwise use a CPU\n",
    "#pathIn='./test_image/study_room.jpeg/' ## cow\n",
    "files = [f for f in os.listdir(pathIn) if isfile(join(pathIn, f))]\n",
    "files. sort(key=lambda f: int(''. join(filter(str. isdigit, f))))\n",
    "#len(files)\n",
    "for i in range(len(files)):\n",
    "        filename=pathIn + files[i]\n",
    "        #reading each files\n",
    "        image = cv2.imread(filename)\n",
    "        encoding = feature_extractor(image, return_tensors=\"pt\")\n",
    "        pixel_values = encoding.pixel_values.to(device)\n",
    "        outputs = model(pixel_values=pixel_values)\n",
    "        logits = outputs.logits.cpu()\n",
    "        ### Run the following if image are chosen from the directory\n",
    "        upsampled_logits = nn.functional.interpolate(\n",
    "                        logits,\n",
    "                        size=(image.shape[0],image.shape[1]),\n",
    "                        mode=\"bilinear\",\n",
    "                        align_corners=False,\n",
    "                                                )\n",
    "        pred_seg = upsampled_logits.argmax(dim=1)[0]\n",
    "        ### visualize the results\n",
    "        color_seg = np.zeros((pred_seg.shape[0], pred_seg.shape[1], 3), dtype=np.uint8)\n",
    "        palette = np.array(ade_palette())\n",
    "        for label, color in enumerate(palette):\n",
    "                color_seg[pred_seg == label, :] = color\n",
    "        color_seg = color_seg[..., ::-1]  # convert to BGR\n",
    "\n",
    "        img = np.array(image) * 0.5 + color_seg * 0.5  # plot the image with the segmentation map\n",
    "        img = img.astype(np.uint8)\n",
    "        name = './{}/'.format(pathOut_seg)+ 'seg'+ str(i) + '.jpg'\n",
    "        cv2.imwrite(name, img)     # save frame as JPG file\n",
    "#'''\n",
    "\n",
    "\n"
   ]
  },
  {
   "cell_type": "code",
   "execution_count": 4,
   "metadata": {},
   "outputs": [],
   "source": [
    "pathOut_seg='./seg_images/'\n",
    "images_to_video(pathOut_seg,5,'./semantic_segmented_cow.MOV')"
   ]
  },
  {
   "cell_type": "code",
   "execution_count": null,
   "metadata": {},
   "outputs": [],
   "source": []
  },
  {
   "cell_type": "code",
   "execution_count": null,
   "metadata": {},
   "outputs": [],
   "source": []
  }
 ],
 "metadata": {
  "kernelspec": {
   "display_name": "Python 3.9.13 ('mymconda')",
   "language": "python",
   "name": "python3"
  },
  "language_info": {
   "codemirror_mode": {
    "name": "ipython",
    "version": 3
   },
   "file_extension": ".py",
   "mimetype": "text/x-python",
   "name": "python",
   "nbconvert_exporter": "python",
   "pygments_lexer": "ipython3",
   "version": "3.9.13"
  },
  "orig_nbformat": 4,
  "vscode": {
   "interpreter": {
    "hash": "557fdd32076dc1adfdcce64832dedb73fbf7ec4fecf055862827704686fb05a7"
   }
  }
 },
 "nbformat": 4,
 "nbformat_minor": 2
}
